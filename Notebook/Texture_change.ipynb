{
 "cells": [
  {
   "cell_type": "code",
   "execution_count": 2,
   "metadata": {},
   "outputs": [],
   "source": [
    "import carla\n",
    "\n",
    "from PIL import Image"
   ]
  },
  {
   "cell_type": "code",
   "execution_count": 9,
   "metadata": {},
   "outputs": [],
   "source": [
    "client = carla.Client(\"localhost\", 2000)\n",
    "world = client.get_world()\n",
    "world.apply_settings(carla.WorldSettings(\n",
    "    no_rendering_mode=False,\n",
    "    synchronous_mode=False,\n",
    "    fixed_delta_seconds=1.0 / 10))\n",
    "traffic_manager = client.get_trafficmanager(8000)\n",
    "traffic_manager.set_synchronous_mode(False)\n",
    "traffic_manager.set_random_device_seed(30)"
   ]
  },
  {
   "cell_type": "code",
   "execution_count": 10,
   "metadata": {},
   "outputs": [
    {
     "ename": "",
     "evalue": "",
     "output_type": "error",
     "traceback": [
      "\u001b[1;31mThe Kernel crashed while executing code in the the current cell or a previous cell. Please review the code in the cell(s) to identify a possible cause of the failure. Click <a href='https://aka.ms/vscodeJupyterKernelCrash'>here</a> for more info. View Jupyter <a href='command:jupyter.viewOutput'>log</a> for further details."
     ]
    }
   ],
   "source": [
    "img_path = \"D:\\\\NewPatchGen\\\\outputs\\\\2023-09-26\\\\01-08-51\\\\Patch\\\\texture.png\"\n",
    "image = Image.open(img_path)\n",
    "width = image.size[0]\n",
    "height = image.size[1]\n",
    "\n",
    "# Instantiate a carla.TextureColor object and populate\n",
    "# the pixels with data from the modified image\n",
    "texture = carla.TextureColor(width, height)\n",
    "for x in range(width):\n",
    "    for y in range(height):\n",
    "        color = image.getpixel((x, y))\n",
    "        r = int(color[0])\n",
    "        g = int(color[1])\n",
    "        b = int(color[2])\n",
    "        a = 255\n",
    "        texture.set(x, y, carla.Color(r, g, b, a))\n",
    "\n",
    "sign = 'BP_ADVSTOP_4'\n",
    "world.apply_color_texture_to_object(\n",
    "    sign, carla.MaterialParameter.Diffuse, texture)"
   ]
  }
 ],
 "metadata": {
  "kernelspec": {
   "display_name": "highway",
   "language": "python",
   "name": "python3"
  },
  "language_info": {
   "codemirror_mode": {
    "name": "ipython",
    "version": 3
   },
   "file_extension": ".py",
   "mimetype": "text/x-python",
   "name": "python",
   "nbconvert_exporter": "python",
   "pygments_lexer": "ipython3",
   "version": "3.9.18"
  }
 },
 "nbformat": 4,
 "nbformat_minor": 2
}
