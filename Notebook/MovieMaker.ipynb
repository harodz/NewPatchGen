{
 "cells": [
  {
   "cell_type": "code",
   "execution_count": 1,
   "metadata": {},
   "outputs": [
    {
     "name": "stderr",
     "output_type": "stream",
     "text": [
      "YOLOv5  2023-5-15 Python-3.10.11 torch-2.0.1 CUDA:0 (NVIDIA GeForce RTX 2080, 8192MiB)\n",
      "\n",
      "Fusing layers... \n",
      "YOLOv5s summary: 270 layers, 7235389 parameters, 0 gradients\n",
      "Adding AutoShape... \n"
     ]
    }
   ],
   "source": [
    "import os\n",
    "from PIL import Image\n",
    "import contextlib\n",
    "import glob\n",
    "import yolov5\n",
    "model = yolov5.load('Assets/yolov5s.pt')\n"
   ]
  },
  {
   "cell_type": "code",
   "execution_count": 6,
   "metadata": {},
   "outputs": [
    {
     "name": "stderr",
     "output_type": "stream",
     "text": [
      "Saved 1 image to \u001b[1mC:\\Users\\Devon\\Project\\NewPatchGen\\outputs\\carla_data_saver\\2023-09-19_23-00-28\\_out2\\sensor.camera.rgb.26\\detections\u001b[0m\n",
      "Saved 1 image to \u001b[1mC:\\Users\\Devon\\Project\\NewPatchGen\\outputs\\carla_data_saver\\2023-09-19_23-00-28\\_out2\\sensor.camera.rgb.26\\detections\u001b[0m\n",
      "Saved 1 image to \u001b[1mC:\\Users\\Devon\\Project\\NewPatchGen\\outputs\\carla_data_saver\\2023-09-19_23-00-28\\_out2\\sensor.camera.rgb.26\\detections\u001b[0m\n",
      "Saved 1 image to \u001b[1mC:\\Users\\Devon\\Project\\NewPatchGen\\outputs\\carla_data_saver\\2023-09-19_23-00-28\\_out2\\sensor.camera.rgb.26\\detections\u001b[0m\n",
      "Saved 1 image to \u001b[1mC:\\Users\\Devon\\Project\\NewPatchGen\\outputs\\carla_data_saver\\2023-09-19_23-00-28\\_out2\\sensor.camera.rgb.26\\detections\u001b[0m\n",
      "Saved 1 image to \u001b[1mC:\\Users\\Devon\\Project\\NewPatchGen\\outputs\\carla_data_saver\\2023-09-19_23-00-28\\_out2\\sensor.camera.rgb.26\\detections\u001b[0m\n",
      "Saved 1 image to \u001b[1mC:\\Users\\Devon\\Project\\NewPatchGen\\outputs\\carla_data_saver\\2023-09-19_23-00-28\\_out2\\sensor.camera.rgb.26\\detections\u001b[0m\n",
      "Saved 1 image to \u001b[1mC:\\Users\\Devon\\Project\\NewPatchGen\\outputs\\carla_data_saver\\2023-09-19_23-00-28\\_out2\\sensor.camera.rgb.26\\detections\u001b[0m\n",
      "Saved 1 image to \u001b[1mC:\\Users\\Devon\\Project\\NewPatchGen\\outputs\\carla_data_saver\\2023-09-19_23-00-28\\_out2\\sensor.camera.rgb.26\\detections\u001b[0m\n",
      "Saved 1 image to \u001b[1mC:\\Users\\Devon\\Project\\NewPatchGen\\outputs\\carla_data_saver\\2023-09-19_23-00-28\\_out2\\sensor.camera.rgb.26\\detections\u001b[0m\n"
     ]
    }
   ],
   "source": [
    "img_path = \"C:\\\\Users\\\\Devon\\\\Project\\\\NewPatchGen\\\\outputs\\\\carla_data_saver\\\\2023-09-19_23-00-28\\\\_out2\\\\sensor.camera.rgb.26\"\n",
    "\n",
    "for filename in os.listdir(img_path):\n",
    "    img = os.path.join(img_path, filename)\n",
    "    results = model(img)\n",
    "\n",
    "    # parse results\n",
    "    predictions = results.pred[0]\n",
    "    boxes = predictions[:, :4] # x1, y1, x2, y2\n",
    "    scores = predictions[:, 4]\n",
    "    categories = predictions[:, 5]\n",
    "\n",
    "    save_dir = os.path.dirname(img)+'/detections'\n",
    "    results.save(save_dir=save_dir, exist_ok=True)"
   ]
  },
  {
   "cell_type": "code",
   "execution_count": 7,
   "metadata": {},
   "outputs": [],
   "source": [
    "# filepaths\n",
    "fp_in = img_path + \"/detections/*.jpg\"\n",
    "fp_out = os.path.dirname(img_path) + \"/detections.gif\"\n",
    "\n",
    "# use exit stack to automatically close opened images\n",
    "with contextlib.ExitStack() as stack:\n",
    "\n",
    "    # lazily load images\n",
    "    imgs = (stack.enter_context(Image.open(f))\n",
    "            for f in sorted(glob.glob(fp_in)))\n",
    "\n",
    "    # extract  first image from iterator\n",
    "    img = next(imgs)\n",
    "\n",
    "    # https://pillow.readthedocs.io/en/stable/handbook/image-file-formats.html#gif\n",
    "    img.save(fp=fp_out, format='GIF', append_images=imgs,\n",
    "             save_all=True, duration=200, loop=0)\n"
   ]
  }
 ],
 "metadata": {
  "kernelspec": {
   "display_name": "carla-build",
   "language": "python",
   "name": "python3"
  },
  "language_info": {
   "codemirror_mode": {
    "name": "ipython",
    "version": 3
   },
   "file_extension": ".py",
   "mimetype": "text/x-python",
   "name": "python",
   "nbconvert_exporter": "python",
   "pygments_lexer": "ipython3",
   "version": "3.10.11"
  },
  "orig_nbformat": 4
 },
 "nbformat": 4,
 "nbformat_minor": 2
}
