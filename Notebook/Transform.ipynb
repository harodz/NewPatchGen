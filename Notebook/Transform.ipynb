{
 "cells": [
  {
   "cell_type": "code",
   "execution_count": 2,
   "metadata": {},
   "outputs": [],
   "source": [
    "import torch\n",
    "import torchvision.transforms.functional as TF\n",
    "import random\n",
    "from PIL import Image\n",
    "import numpy as np"
   ]
  },
  {
   "cell_type": "code",
   "execution_count": 3,
   "metadata": {},
   "outputs": [
    {
     "name": "stdout",
     "output_type": "stream",
     "text": [
      "torch.Size([1, 3, 640, 640])\n"
     ]
    }
   ],
   "source": [
    "img = Image.open(\"C:\\\\Users\\\\Devon\\\\Project\\\\NewPatchGen\\\\outputs\\\\2023-09-19\\\\22-26-38\\\\Patch\\\\final_patched.png\")\n",
    "\n",
    "# convert to np\n",
    "img_np = np.array(img)\n",
    "img_np = img_np.transpose(2, 0, 1)\n",
    "img_np = img_np.astype(np.float32) / 255.0\n",
    "img_np = np.expand_dims(img_np, axis=0)\n",
    "\n",
    "# convert to tensor\n",
    "x = torch.from_numpy(img_np).to(device='cuda:0')\n",
    "print(x.shape)"
   ]
  },
  {
   "cell_type": "code",
   "execution_count": 13,
   "metadata": {},
   "outputs": [],
   "source": [
    "def random_shift(val, shift_range=(-100, 100)):\n",
    "    return val + random.uniform(*shift_range)\n",
    "\n",
    "# Define source and destination points\n",
    "src_points = [[0, 0], [639, 0], [639, 639], [0, 639]]  # corners of the original image\n",
    "dst_points = [\n",
    "    [random_shift(0), random_shift(0)],\n",
    "    [random_shift(639), random_shift(0)],\n",
    "    [random_shift(639), random_shift(639)],\n",
    "    [random_shift(0), random_shift(639)]\n",
    "]\n",
    "\n",
    "warped = TF.perspective(x, startpoints=src_points, endpoints=dst_points)\n",
    "\n",
    "warped_copy = warped.detach().clone()\n",
    "warped_copy = TF.to_pil_image(warped_copy[0].cpu())\n",
    "\n",
    "# show the images\n",
    "warped_copy.show()"
   ]
  }
 ],
 "metadata": {
  "kernelspec": {
   "display_name": "carla-build",
   "language": "python",
   "name": "python3"
  },
  "language_info": {
   "codemirror_mode": {
    "name": "ipython",
    "version": 3
   },
   "file_extension": ".py",
   "mimetype": "text/x-python",
   "name": "python",
   "nbconvert_exporter": "python",
   "pygments_lexer": "ipython3",
   "version": "3.10.11"
  },
  "orig_nbformat": 4
 },
 "nbformat": 4,
 "nbformat_minor": 2
}
