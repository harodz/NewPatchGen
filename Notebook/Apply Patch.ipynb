{
 "cells": [
  {
   "cell_type": "code",
   "execution_count": null,
   "metadata": {},
   "outputs": [],
   "source": [
    "from PIL import Image\n",
    "import numpy as np\n",
    "import cv2"
   ]
  },
  {
   "cell_type": "code",
   "execution_count": 2,
   "metadata": {},
   "outputs": [],
   "source": [
    "patch_location = [200,310]\n",
    "patch_shape = [3,100,100]"
   ]
  },
  {
   "cell_type": "code",
   "execution_count": 3,
   "metadata": {},
   "outputs": [],
   "source": [
    "img = Image.open(\n",
    "    'C:\\\\Users\\\\Devon\\\\Project\\\\NewPatchGen\\\\Assets\\\\New.png')\n",
    "img = img.rotate(180)\n",
    "\n",
    "# add red background\n",
    "red_img = np.full((640, 640, 3), (0, 0, 255),\n",
    "                    dtype=np.uint8)\n",
    "x_center = (640 - img.size[1]) // 2\n",
    "y_center = (640 - img.size[0]) // 2\n",
    "red_img[y_center:y_center + img.size[1],\n",
    "        x_center:x_center + img.size[0]] = img\n",
    "red_img_reshape = red_img.transpose((2, 0, 1))\n",
    "red_image = np.stack([red_img_reshape], axis=0).astype(np.float32)\n",
    "\n",
    "# get contours and change all values outside of the contour to noise\n",
    "red_img_array = np.array(red_img)\n",
    "gray = cv2.cvtColor(np.array(red_img_array), cv2.COLOR_RGB2GRAY)\n",
    "edged = cv2.Canny(gray, 30, 200)\n",
    "contours, hierarchy = cv2.findContours(\n",
    "    edged, cv2.RETR_TREE, cv2.CHAIN_APPROX_SIMPLE)\n",
    "rect_x, rect_y, rect_w, rect_h = cv2.boundingRect(contours[1])"
   ]
  },
  {
   "cell_type": "code",
   "execution_count": 4,
   "metadata": {},
   "outputs": [],
   "source": [
    "patch_img = Image.open('C:\\\\Users\\\\Devon\\\\Project\\\\NewPatchGen\\\\outputs\\\\2023-09-19\\\\22-26-38\\\\Patch\\\\patch.png')\n",
    "x_1, y_1 = patch_location\n",
    "x_2, y_2 = x_1 + patch_shape[1], y_1 + patch_shape[2]\n",
    "\n",
    "red_img[x_1:x_2, y_1:y_2] = patch_img\n",
    "\n",
    "crop = red_img[rect_y:rect_y + rect_h, rect_x:rect_x + rect_w]\n",
    "texture = Image.fromarray(crop.astype(np.uint8))\n",
    "texture = texture.rotate(180)\n",
    "texture.save('C:\\\\Users\\\\Devon\\\\Project\\\\NewPatchGen\\\\outputs\\\\2023-09-19\\\\22-26-38\\\\Patch\\\\texture.png')\n"
   ]
  }
 ],
 "metadata": {
  "kernelspec": {
   "display_name": "carla-build",
   "language": "python",
   "name": "python3"
  },
  "language_info": {
   "codemirror_mode": {
    "name": "ipython",
    "version": 3
   },
   "file_extension": ".py",
   "mimetype": "text/x-python",
   "name": "python",
   "nbconvert_exporter": "python",
   "pygments_lexer": "ipython3",
   "version": "3.9.18"
  },
  "orig_nbformat": 4
 },
 "nbformat": 4,
 "nbformat_minor": 2
}
